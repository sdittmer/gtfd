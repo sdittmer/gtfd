{
 "cells": [
  {
   "cell_type": "code",
   "execution_count": null,
   "metadata": {},
   "outputs": [],
   "source": [
    "import torch\n",
    "import numpy as np\n",
    "\n",
    "import time\n",
    "import matplotlib.pyplot as plt\n",
    "\n",
    "from utils.SineDataSet import get_batch\n",
    "from utils.Generator import Generator"
   ]
  },
  {
   "cell_type": "markdown",
   "metadata": {},
   "source": [
    "# Initialize generators and optimizers"
   ]
  },
  {
   "cell_type": "code",
   "execution_count": null,
   "metadata": {},
   "outputs": [],
   "source": [
    "G = Generator().cuda()\n",
    "optimizer_G = torch.optim.Adam(G.parameters(), lr=1e-4)"
   ]
  },
  {
   "cell_type": "markdown",
   "metadata": {},
   "source": [
    "# Training & logging"
   ]
  },
  {
   "cell_type": "code",
   "execution_count": null,
   "metadata": {},
   "outputs": [],
   "source": [
    "mean_errors_to_groundtruth = []\n",
    "ticks = []\n",
    "losses_G = []\n",
    "tick = time.time()"
   ]
  },
  {
   "cell_type": "code",
   "execution_count": null,
   "metadata": {},
   "outputs": [],
   "source": [
    "while True:\n",
    "    with torch.no_grad():\n",
    "        y, yδ, _ = get_batch()\n",
    "\n",
    "    optimizer_G.zero_grad()\n",
    "    y_approximation = G(yδ)\n",
    "    loss = torch.mean((y - y_approximation)**2)\n",
    "    losses_G.append(loss.item())\n",
    "    loss.backward()\n",
    "    optimizer_G.step()\n",
    "\n",
    "    with torch.no_grad():\n",
    "        mean_errors_to_groundtruth.append(torch.norm(y - y_approximation, dim=1).mean().item())\n",
    "        ticks.append(time.time() - tick)\n",
    "\n",
    "    if not len(mean_errors_to_groundtruth) % 100:\n",
    "        torch.save(G.state_dict(), f'trained_models/supervised/G_state_{len(mean_errors_to_groundtruth)}.pt')\n",
    "        np.save(f'trained_models/supervised/mean_errors_to_groundtruth.npy', mean_errors_to_groundtruth)\n",
    "        np.save(f'trained_models/supervised/ticks.npy', ticks)\n",
    "        np.save(f'trained_models/supervised/losses_G.npy', losses_G)"
   ]
  },
  {
   "cell_type": "code",
   "execution_count": null,
   "metadata": {},
   "outputs": [],
   "source": []
  }
 ],
 "metadata": {
  "kernelspec": {
   "display_name": "Python 3",
   "language": "python",
   "name": "python3"
  },
  "language_info": {
   "codemirror_mode": {
    "name": "ipython",
    "version": 3
   },
   "file_extension": ".py",
   "mimetype": "text/x-python",
   "name": "python",
   "nbconvert_exporter": "python",
   "pygments_lexer": "ipython3",
   "version": "3.7.6"
  }
 },
 "nbformat": 4,
 "nbformat_minor": 4
}
