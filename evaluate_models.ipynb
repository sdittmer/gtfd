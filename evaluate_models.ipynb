{
 "cells": [
  {
   "cell_type": "code",
   "execution_count": null,
   "metadata": {},
   "outputs": [],
   "source": [
    "import torch\n",
    "import numpy as np\n",
    "import matplotlib.pyplot as plt\n",
    "from skimage.metrics import peak_signal_noise_ratio, structural_similarity\n",
    "\n",
    "from utils.SineDataSet import get_batch\n",
    "from utils.Generator import Generator\n",
    "\n",
    "import glob"
   ]
  },
  {
   "cell_type": "code",
   "execution_count": null,
   "metadata": {},
   "outputs": [],
   "source": [
    "def get_latest_version_path(method_name):\n",
    "    folder_path = f'trained_models/{method_name}/'\n",
    "    paths = glob.glob(f'{folder_path}*.pt', recursive=True)\n",
    "    versions = np.array([int(path[len(folder_path+'G_state_'):-3]) for path in paths])\n",
    "    return paths[np.argmax(versions)]\n",
    "\n",
    "n = 50\n",
    "def moving_average(a, n=n):\n",
    "    ret = np.cumsum(a, dtype=float)\n",
    "    ret[n:] = ret[n:] - ret[:-n]\n",
    "    return ret[n - 1:] / n"
   ]
  },
  {
   "cell_type": "code",
   "execution_count": null,
   "metadata": {},
   "outputs": [],
   "source": [
    "Gs = []\n",
    "for i, method_name in enumerate(['gtfd', 'supervised', 'stein'], start=1):\n",
    "    file_path = get_latest_version_path(method_name)\n",
    "    print(file_path)\n",
    "    G = Generator().cuda()\n",
    "    G.load_state_dict(torch.load(file_path))\n",
    "    G.eval()\n",
    "    Gs.append(G)\n",
    "\n",
    "    ticks = np.load(f'trained_models/{method_name}/ticks.npy')\n",
    "    mean_errors_to_groundtruth = np.load(f'trained_models/{method_name}/mean_errors_to_groundtruth.npy')\n",
    "    plt.subplot(130+i)\n",
    "    plt.title(f\"Method: {method_name}, min at index {np.argmin(mean_errors_to_groundtruth)} at minute {ticks[np.argmin(mean_errors_to_groundtruth)]//60}\")\n",
    "    plt.plot(ticks, mean_errors_to_groundtruth)\n",
    "    plt.plot(ticks[n-1:], moving_average(mean_errors_to_groundtruth))\n",
    "    plt.ylim(bottom=1, top=8)\n",
    "\n",
    "plt.gcf().set_size_inches(25, 4)\n",
    "plt.show()\n",
    "G_gtfd, G_supervised, G_stein = Gs"
   ]
  },
  {
   "cell_type": "code",
   "execution_count": null,
   "metadata": {},
   "outputs": [],
   "source": [
    "def get_psnrs(groundtruth, approximations):\n",
    "    return np.array([peak_signal_noise_ratio(groundtruth, approximation, data_range=2) for approximation in approximations])\n",
    "\n",
    "def get_ssims(groundtruth, approximations):\n",
    "    return np.array([structural_similarity(groundtruth, approximation, data_range=2) for approximation in approximations])"
   ]
  },
  {
   "cell_type": "code",
   "execution_count": null,
   "metadata": {},
   "outputs": [],
   "source": [
    "ys, yδs, _ = get_batch(100)\n",
    "\n",
    "ys_gtfd = G_gtfd(yδs).detach().cpu().numpy()\n",
    "ys_supervised = G_supervised(yδs).detach().cpu().numpy()\n",
    "ys_stein = G_stein(yδs).detach().cpu().numpy()\n",
    "\n",
    "ys, yδs = ys.detach().cpu().numpy(), yδs.detach().cpu().numpy()"
   ]
  },
  {
   "cell_type": "code",
   "execution_count": null,
   "metadata": {},
   "outputs": [],
   "source": [
    "psnrs = []\n",
    "ssims = []\n",
    "\n",
    "for y, yδ, y_gtfd, y_supervised, y_stein in zip(ys, yδs, ys_gtfd, ys_supervised, ys_stein):\n",
    "    psnrs.append(get_psnrs(y, [yδ, y_gtfd, y_supervised, y_stein]))\n",
    "    ssims.append(get_ssims(y, [yδ, y_gtfd, y_supervised, y_stein]))\n",
    "\n",
    "psnrs = np.array(psnrs)\n",
    "ssims = np.array(ssims)\n",
    "\n",
    "print('Mean PSNRs:', psnrs.mean(axis=0))\n",
    "print('Mean SSIMs:', ssims.mean(axis=0))\n",
    "print(\"=====\")\n",
    "print('Median PSNRs:', np.median(psnrs, axis=0))\n",
    "print('Median SSIMs:', np.median(ssims, axis=0))\n",
    "print(\"=====\")\n",
    "print('Std. PSNRs:', psnrs.std(axis=0))\n",
    "print('Std. SSIMs:', ssims.std(axis=0))"
   ]
  },
  {
   "cell_type": "code",
   "execution_count": null,
   "metadata": {
    "scrolled": true
   },
   "outputs": [],
   "source": [
    "for i, (y, yδ, y_gtfd, y_supervised, y_stein) in enumerate(zip(ys, yδs, ys_gtfd, ys_supervised, ys_stein)):\n",
    "    plt.subplot(151)\n",
    "    plt.title('')\n",
    "    plt.plot(np.linspace(0, 1, 128), y)\n",
    "\n",
    "    plt.subplot(152)\n",
    "    plt.title(f'PSNR: {round(peak_signal_noise_ratio(y, yδ, data_range=2), 1)} SSIM: {round(structural_similarity(y, yδ, data_range=2), 2)}')\n",
    "    plt.plot(np.linspace(0, 1, 128), yδ)\n",
    "\n",
    "    plt.subplot(153)\n",
    "    plt.title(f'PSNR: {round(peak_signal_noise_ratio(y, y_gtfd, data_range=2), 1)} SSIM: {round(structural_similarity(y, y_gtfd, data_range=2), 2)}')\n",
    "    plt.plot(np.linspace(0, 1, 128), y_gtfd)\n",
    "\n",
    "    plt.subplot(154)\n",
    "    plt.title(f'PSNR: {round(peak_signal_noise_ratio(y, y_supervised, data_range=2), 1)} SSIM: {round(structural_similarity(y, y_supervised, data_range=2), 2)}')\n",
    "    plt.plot(np.linspace(0, 1, 128), y_supervised)\n",
    "\n",
    "    plt.subplot(155)\n",
    "    plt.title(f'PSNR: {round(peak_signal_noise_ratio(y, y_stein, data_range=2), 1)} SSIM: {round(structural_similarity(y, y_stein, data_range=2), 2)}')\n",
    "    plt.plot(np.linspace(0, 1, 128), y_stein)\n",
    "\n",
    "    plt.gcf().set_size_inches(25, 3)\n",
    "    plt.savefig(f'plots/example{i}.png')\n",
    "    plt.show()"
   ]
  },
  {
   "cell_type": "code",
   "execution_count": null,
   "metadata": {},
   "outputs": [],
   "source": []
  }
 ],
 "metadata": {
  "kernelspec": {
   "display_name": "Python 3",
   "language": "python",
   "name": "python3"
  },
  "language_info": {
   "codemirror_mode": {
    "name": "ipython",
    "version": 3
   },
   "file_extension": ".py",
   "mimetype": "text/x-python",
   "name": "python",
   "nbconvert_exporter": "python",
   "pygments_lexer": "ipython3",
   "version": "3.7.6"
  }
 },
 "nbformat": 4,
 "nbformat_minor": 4
}
